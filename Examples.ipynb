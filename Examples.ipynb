{
 "cells": [
  {
   "cell_type": "markdown",
   "id": "fb67880b",
   "metadata": {},
   "source": [
    "This notebook demonstrates how to use the `HelmholtzSolver` class. First, the object has to be initiated. Then, the required coefficients can be computed using the `compute_coefficients` method of the class. The method returns:\n",
    "- $R$\n",
    "- $|R|^2$\n",
    "- $T$\n",
    "- $|T|^2$\n",
    "- $A = 1 - |R|^2 - |T|^2$\n",
    "where the coefficients are defined according to the asymptotic conditions: \n",
    "\n",
    "$$\n",
    "E(z) \\rightarrow \n",
    "\\begin{cases}\n",
    "    e^{ik_0z}+Re^{-ik_0z}, & z \\rightarrow -\\infty \\\\\n",
    "    Te^{ik_0z}, & z \\rightarrow +\\infty\n",
    "\\end{cases}\n",
    "$$\n",
    "\n",
    "The slab structure is defined by providing a list coordinates of the interfaces and a list defining a piecewise dielectric permittivity. \n",
    "\n",
    "**Units**:\n",
    "- $z$, $\\lambda$: meters/micrometers, etc\n",
    "- $\\theta$: deg"
   ]
  },
  {
   "cell_type": "code",
   "execution_count": 7,
   "id": "4bbde4ad",
   "metadata": {},
   "outputs": [],
   "source": [
    "from HelmholtzSolver import HelmholtzSolver\n",
    "import numpy as np\n",
    "\n",
    "def format_complex(z):\n",
    "    # Разделяем действительную и мнимую части\n",
    "    real = z.real\n",
    "    imag = z.imag\n",
    "    # Форматируем с фиксированной шириной и обязательным знаком\n",
    "    return f\"{real:+.4f}{imag:+.4f}j\"\n",
    "\n",
    "def print_coefficients(R, T):\n",
    "    R_str = format_complex(R)\n",
    "    T_str = format_complex(T)\n",
    "    R_pow = f\"{np.abs(R)**2:.5f}\"\n",
    "    T_pow = f\"{np.abs(T)**2:.5f}\"\n",
    "    A = f\"{1 - np.abs(R)**2 - np.abs(T)**2:.5f}\"\n",
    "\n",
    "    print(f\"  R = {R_str:<16} |R|^2 = {R_pow:>8}\")\n",
    "    print(f\"  T = {T_str:<16} |T|^2 = {T_pow:>8}\")\n",
    "    print(f\"  A = {A:>7}\")"
   ]
  },
  {
   "cell_type": "markdown",
   "id": "c429180e",
   "metadata": {},
   "source": [
    "### Example"
   ]
  },
  {
   "cell_type": "code",
   "execution_count": null,
   "id": "88d95199",
   "metadata": {},
   "outputs": [
    {
     "name": "stdout",
     "output_type": "stream",
     "text": [
      "5054.796593569815 (2513.2741228718346+0j)\n",
      "  R = -0.7539-0.2839j  |R|^2 =  0.64902\n",
      "  T = +0.0000+0.0000j  |T|^2 =  0.00000\n",
      "  A = 0.35098\n"
     ]
    }
   ],
   "source": [
    "eps = -10 + 20j\n",
    "solver = HelmholtzSolver(\n",
    "    lambda0=1,\n",
    "    boundaries=[0, 200, 400, 600],\n",
    "    epsilons=[eps, eps, eps],\n",
    "    theta=0,\n",
    "    polarization=\"s\"\n",
    ")\n",
    "R, T, A = solver.compute_coefficients()\n",
    "\n",
    "print_coefficients(R, T)"
   ]
  },
  {
   "cell_type": "code",
   "execution_count": 6,
   "id": "09571b37",
   "metadata": {},
   "outputs": [
    {
     "name": "stdout",
     "output_type": "stream",
     "text": [
      "inf 5.221469689764144e+173\n"
     ]
    },
    {
     "name": "stderr",
     "output_type": "stream",
     "text": [
      "/tmp/ipykernel_12105/4159062700.py:4: RuntimeWarning: overflow encountered in exp\n",
      "  print(np.exp(a)/np.exp(b), np.exp(a-b))\n"
     ]
    }
   ],
   "source": [
    "a = 800\n",
    "b = 400\n",
    "\n",
    "print(np.exp(a)/np.exp(b), np.exp(a-b))\n",
    "\n"
   ]
  },
  {
   "cell_type": "code",
   "execution_count": 9,
   "id": "b0d7869a",
   "metadata": {},
   "outputs": [
    {
     "name": "stdout",
     "output_type": "stream",
     "text": [
      "(6.2310935509105822157e+86+3.6589848397392945553e+86j) 1.3838965267367376e-87 (6.231093550910581e+86+3.6589848397392945e+86j) (6.231093550910581e+86+3.6589848397392945e+86j)\n"
     ]
    }
   ],
   "source": [
    "eps = -10 - 20j\n",
    "z = 1j*10*eps\n",
    "\n",
    "print(np.exp(z.real, dtype=np.float128) * (np.cos(z.imag, dtype=np.float128) + 1j*np.sin(z.imag, dtype=np.float128)), np.exp(-z.real, dtype=float), np.exp(z, dtype=np.complex128), np.exp(z, dtype=complex))"
   ]
  },
  {
   "cell_type": "markdown",
   "id": "474ea2d4",
   "metadata": {},
   "source": [
    "### Absorption"
   ]
  },
  {
   "cell_type": "code",
   "execution_count": 3,
   "id": "64bd7665",
   "metadata": {},
   "outputs": [
    {
     "name": "stdout",
     "output_type": "stream",
     "text": [
      "[[ 1.50766473+0.1240492j -0.50766473-0.1240492j]\n",
      " [-0.50766473-0.1240492j  1.50766473+0.1240492j]] [[ 1.50766473+0.1240492j -0.50766473-0.1240492j]\n",
      " [-0.50766473-0.1240492j  1.50766473+0.1240492j]]\n",
      "[[ 1.50766473+0.1240492j -0.50766473-0.1240492j]\n",
      " [-0.50766473-0.1240492j  1.50766473+0.1240492j]] [[ 0.66662565-1.63745373j -0.02898788-0.44622692j]\n",
      " [-0.31620232+0.52253512j  0.28555038+1.26251477j]]\n",
      "A = 0.2314\n"
     ]
    }
   ],
   "source": [
    "epsilon = 4 + 1j  \n",
    "solver = HelmholtzSolver(\n",
    "    lambda0=1.0,\n",
    "    boundaries=[0, 0.1],\n",
    "    epsilons=[epsilon],\n",
    "    theta=0,  \n",
    ")\n",
    "R, T, A = solver.compute_coefficients()\n",
    "assert A > 0, f\"Ошибка: A = {A} (должно быть > 0)\"\n",
    "print(f\"A = {A:.4f}\")"
   ]
  },
  {
   "cell_type": "markdown",
   "id": "585ff351",
   "metadata": {},
   "source": [
    "### Normal incidence (s equals to p)"
   ]
  },
  {
   "cell_type": "code",
   "execution_count": 7,
   "id": "902c8650",
   "metadata": {},
   "outputs": [
    {
     "name": "stdout",
     "output_type": "stream",
     "text": [
      "[[ 0.73473157-1.01127124j -0.14694631-0.20225425j]\n",
      " [-0.14694631+0.20225425j  0.73473157+1.01127124j]]\n",
      "[[0.48982104-0.67418083j 0.09796421+0.13483617j]\n",
      " [0.09796421-0.13483617j 0.48982104+0.67418083j]]\n"
     ]
    }
   ],
   "source": [
    "epsilon = 2.25\n",
    "solver_s = HelmholtzSolver(\n",
    "    lambda0=1.0,\n",
    "    boundaries=[0, 0.1],\n",
    "    epsilons=[epsilon],\n",
    "    theta=0,\n",
    "    polarization=\"s\"\n",
    ")\n",
    "R_s, T_s, A_s = solver_s.compute_coefficients()\n",
    "\n",
    "solver_p = HelmholtzSolver(\n",
    "    lambda0=1.0,\n",
    "    boundaries=[0, 0.1],\n",
    "    epsilons=[epsilon],\n",
    "    theta=0,\n",
    "    polarization=\"p\"\n",
    ")\n",
    "R_p, T_p, A_p = solver_p.compute_coefficients()\n",
    "\n",
    "assert np.isclose(abs(R_s), abs(R_p), atol=1e-6), f\"Ошибка: |R_s|={abs(R_s)}, |R_p|={abs(R_p)}\""
   ]
  },
  {
   "cell_type": "markdown",
   "id": "09c03119",
   "metadata": {},
   "source": [
    "### No layers"
   ]
  },
  {
   "cell_type": "code",
   "execution_count": 8,
   "id": "1eb409fc",
   "metadata": {},
   "outputs": [
    {
     "name": "stdout",
     "output_type": "stream",
     "text": [
      "[[ 2.43649167+0.j -1.43649167+0.j]\n",
      " [-1.43649167+0.j  2.43649167+0.j]]\n"
     ]
    }
   ],
   "source": [
    "epsilon = 4 + 1j  \n",
    "solver = HelmholtzSolver(\n",
    "    lambda0=1.0,\n",
    "    boundaries=[0, 0],\n",
    "    epsilons=[15],\n",
    "    theta=0,  \n",
    ")\n",
    "R, T, A = solver.compute_coefficients()\n",
    "\n",
    "assert np.isclose(abs(R), 0, atol=1e-6)"
   ]
  },
  {
   "cell_type": "code",
   "execution_count": 9,
   "id": "06abee59",
   "metadata": {},
   "outputs": [
    {
     "name": "stdout",
     "output_type": "stream",
     "text": [
      "inf\n",
      "(inf+infj) (inf-infj)\n"
     ]
    },
    {
     "name": "stderr",
     "output_type": "stream",
     "text": [
      "/tmp/ipykernel_8009/2812407858.py:6: RuntimeWarning: overflow encountered in exp\n",
      "  f = np.exp(-1j*k*d)\n",
      "/tmp/ipykernel_8009/2812407858.py:8: RuntimeWarning: overflow encountered in exp\n",
      "  f1 = np.exp(k.imag*d)*(np.cos(k0*d)+1j*np.sin(k0*d))\n",
      "/tmp/ipykernel_8009/2812407858.py:9: RuntimeWarning: overflow encountered in exp\n",
      "  print(np.exp(k.imag*d))\n"
     ]
    }
   ],
   "source": [
    "k0 = 1\n",
    "k1 = 20j\n",
    "k = k0 + k1\n",
    "\n",
    "d = 100\n",
    "f = np.exp(-1j*k*d)\n",
    "\n",
    "f1 = np.exp(k.imag*d)*(np.cos(k0*d)+1j*np.sin(k0*d))\n",
    "print(np.exp(k.imag*d))\n",
    "print(f, f1)"
   ]
  },
  {
   "cell_type": "code",
   "execution_count": 18,
   "id": "76c8b40f",
   "metadata": {},
   "outputs": [
    {
     "data": {
      "text/plain": [
       "np.complex128(1.0142320547350045e+304+0j)"
      ]
     },
     "execution_count": 18,
     "metadata": {},
     "output_type": "execute_result"
    }
   ],
   "source": [
    "def safe_exp(x):\n",
    "    x_real = np.real(x)\n",
    "    x_imag = np.imag(x)\n",
    "    x_real_clipped = np.clip(x_real, -700, 700)  # Ограничиваем вещественную часть\n",
    "    return np.exp(x_real_clipped + 1j*x_imag)\n",
    "\n",
    "safe_exp(800)"
   ]
  }
 ],
 "metadata": {
  "kernelspec": {
   "display_name": "Helmholtz-env",
   "language": "python",
   "name": "python3"
  },
  "language_info": {
   "codemirror_mode": {
    "name": "ipython",
    "version": 3
   },
   "file_extension": ".py",
   "mimetype": "text/x-python",
   "name": "python",
   "nbconvert_exporter": "python",
   "pygments_lexer": "ipython3",
   "version": "3.10.12"
  }
 },
 "nbformat": 4,
 "nbformat_minor": 5
}
