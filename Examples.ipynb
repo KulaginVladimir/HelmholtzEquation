{
 "cells": [
  {
   "cell_type": "markdown",
   "id": "fb67880b",
   "metadata": {},
   "source": [
    "This notebook demonstrates how to use the `HelmholtzSolver` class. First, the object has to be initiated. Then, the required coefficients can be computed using the `compute_coefficients` method of the class. The method returns:\n",
    "- $R$\n",
    "- $|R|^2$\n",
    "- $T$\n",
    "- $|T|^2$\n",
    "- $A = 1 - |R|^2 - |T|^2$\n",
    "where the coefficients are defined according to the asymptotic conditions: \n",
    "\n",
    "$$\n",
    "E(z) \\rightarrow \n",
    "\\begin{cases}\n",
    "    e^{ik_0z}+Re^{-ik_0z}, & z \\rightarrow -\\infty \\\\\n",
    "    Te^{ik_0z}, & z \\rightarrow +\\infty\n",
    "\\end{cases}\n",
    "$$\n",
    "\n",
    "The slab structure is defined by providing a list coordinates of the interfaces and a list defining a piecewise dielectric permittivity. \n",
    "\n",
    "**Units**:\n",
    "- $z$, $\\lambda$: meters/micrometers, etc\n",
    "- $\\theta$: deg"
   ]
  },
  {
   "cell_type": "code",
   "execution_count": 1,
   "id": "4bbde4ad",
   "metadata": {},
   "outputs": [],
   "source": [
    "from HelmholtzSolver import HelmholtzSolver\n",
    "import numpy as np\n",
    "\n",
    "def format_complex(z):\n",
    "    # Разделяем действительную и мнимую части\n",
    "    real = z.real\n",
    "    imag = z.imag\n",
    "    # Форматируем с фиксированной шириной и обязательным знаком\n",
    "    return f\"{real:+.4f}{imag:+.4f}j\"\n",
    "\n",
    "def print_coefficients(R, T):\n",
    "    R_str = format_complex(R)\n",
    "    T_str = format_complex(T)\n",
    "    R_pow = f\"{np.abs(R)**2:.4f}\"\n",
    "    T_pow = f\"{np.abs(T)**2:.4f}\"\n",
    "    A = f\"{1 - np.abs(R)**2 - np.abs(T)**2:.4f}\"\n",
    "\n",
    "    print(f\"  R = {R_str:<16} |R|^2 = {R_pow:>8}\")\n",
    "    print(f\"  T = {T_str:<16} |T|^2 = {T_pow:>8}\")\n",
    "    print(f\"  A = {A:>7}\")"
   ]
  },
  {
   "cell_type": "markdown",
   "id": "c429180e",
   "metadata": {},
   "source": [
    "### Example"
   ]
  },
  {
   "cell_type": "code",
   "execution_count": 2,
   "id": "88d95199",
   "metadata": {},
   "outputs": [
    {
     "name": "stdout",
     "output_type": "stream",
     "text": [
      "  R = -0.6849-0.5138j  |R|^2 =   0.7330\n",
      "  T = +0.1663+0.0100j  |T|^2 =   0.0277\n",
      "  A =  0.2392\n"
     ]
    }
   ],
   "source": [
    "solver_s = HelmholtzSolver(\n",
    "    lambda0=15,\n",
    "    boundaries=[0, 0.5, 1.0, 1.5],\n",
    "    epsilons=[1.5, -30 + 40j, 10 + 3j],\n",
    "    theta=10,\n",
    "    polarization=\"p\"\n",
    ")\n",
    "R, T, A = solver_s.compute_coefficients()\n",
    "\n",
    "print_coefficients(R, T)"
   ]
  },
  {
   "cell_type": "markdown",
   "id": "474ea2d4",
   "metadata": {},
   "source": [
    "### Absorption"
   ]
  },
  {
   "cell_type": "code",
   "execution_count": 3,
   "id": "64bd7665",
   "metadata": {},
   "outputs": [
    {
     "name": "stdout",
     "output_type": "stream",
     "text": [
      "A = 0.2314\n"
     ]
    }
   ],
   "source": [
    "epsilon = 4 + 1j  \n",
    "solver = HelmholtzSolver(\n",
    "    lambda0=1.0,\n",
    "    boundaries=[0, 0.1],\n",
    "    epsilons=[epsilon],\n",
    "    theta=0,  \n",
    ")\n",
    "R, T, A = solver.compute_coefficients()\n",
    "assert A > 0, f\"Ошибка: A = {A} (должно быть > 0)\"\n",
    "print(f\"A = {A:.4f}\")"
   ]
  },
  {
   "cell_type": "markdown",
   "id": "585ff351",
   "metadata": {},
   "source": [
    "### Normal incidence (s equals to p)"
   ]
  },
  {
   "cell_type": "code",
   "execution_count": 4,
   "id": "902c8650",
   "metadata": {},
   "outputs": [],
   "source": [
    "epsilon = 2.25\n",
    "solver_s = HelmholtzSolver(\n",
    "    lambda0=1.0,\n",
    "    boundaries=[0, 0.1],\n",
    "    epsilons=[epsilon],\n",
    "    theta=0,\n",
    "    polarization=\"s\"\n",
    ")\n",
    "R_s, T_s, A_s = solver_s.compute_coefficients()\n",
    "\n",
    "solver_p = HelmholtzSolver(\n",
    "    lambda0=1.0,\n",
    "    boundaries=[0, 0.1],\n",
    "    epsilons=[epsilon],\n",
    "    theta=0,\n",
    "    polarization=\"p\"\n",
    ")\n",
    "R_p, T_p, A_p = solver_p.compute_coefficients()\n",
    "\n",
    "assert np.isclose(abs(R_s), abs(R_p), atol=1e-6), f\"Ошибка: |R_s|={abs(R_s)}, |R_p|={abs(R_p)}\""
   ]
  },
  {
   "cell_type": "markdown",
   "id": "09c03119",
   "metadata": {},
   "source": [
    "### No layers"
   ]
  },
  {
   "cell_type": "code",
   "execution_count": 5,
   "id": "1eb409fc",
   "metadata": {},
   "outputs": [],
   "source": [
    "epsilon = 4 + 1j  \n",
    "solver = HelmholtzSolver(\n",
    "    lambda0=1.0,\n",
    "    boundaries=[0, 0],\n",
    "    epsilons=[15],\n",
    "    theta=0,  \n",
    ")\n",
    "R, T, A = solver.compute_coefficients()\n",
    "\n",
    "assert np.isclose(abs(R), 0, atol=1e-6)"
   ]
  }
 ],
 "metadata": {
  "kernelspec": {
   "display_name": "Helmholtz-env",
   "language": "python",
   "name": "python3"
  },
  "language_info": {
   "codemirror_mode": {
    "name": "ipython",
    "version": 3
   },
   "file_extension": ".py",
   "mimetype": "text/x-python",
   "name": "python",
   "nbconvert_exporter": "python",
   "pygments_lexer": "ipython3",
   "version": "3.10.12"
  }
 },
 "nbformat": 4,
 "nbformat_minor": 5
}
